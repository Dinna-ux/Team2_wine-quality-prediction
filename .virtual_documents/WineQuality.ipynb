import matplotlib.pyplot as plt
import numpy as np
import pandas as pd
import seaborn as sns
import sklearn as sk
import statsmodels.api as sm
from sklearn.linear_model import LinearRegression


#import the data set and print head
red_wine_df = pd.read_csv("./Resources/winequality-red.csv", delimiter=";",)
red_wine_df.head()


#import the data set and print head
white_wine_df = pd.read_csv("./Resources/winequality-white.csv", delimiter=";",)
white_wine_df.head()


#describe the data frame
red_wine_df.describe()


#describe the data frame
white_wine_df.describe()


#Plot the data in a box plot
plt.figure(figsize=(30, 15))
sns.boxplot (data=red_wine_df)


#Plot the data in a box plot
plt.figure(figsize=(30, 15))
sns.boxplot (data=white_wine_df)


# Multivariate Analysis
plt.figure(figsize=(30, 15))
sns.pairplot(data=red_wine_df)
plt.show


# Multivariate Analysis
plt.figure(figsize=(30, 15))
sns.pairplot(data=white_wine_df)
plt.show


# Heatmap
plt.figure(figsize=(20, 15))
sns.heatmap(red_wine_df.corr(), vmin=-1, vmax=1, cmap="coolwarm", annot=True)
plt.show


import plotly.express as px
import plotly.io as pio
# Remove/Drop non numerical columns in red_wine_df
n_numeric_columns = red_wine_df.select_dtypes(include=['object']).columns
red_wine_df = red_wine_df.drop(columns=n_numeric_columns)

# Correlation between quality and red wine
correlation = red_wine_df.corr()['quality'].sort_values(ascending=False)
top_features = correlation.index[1:6]  # Selecting top 5 features

# Interactive bar plot for red wine
plot_red = px.bar(
    x=correlation[top_features],
    y=top_features,
    orientation='h',
    labels={'x': 'Correlation with Quality', 'y': 'Features'},
    title='Key Features Influencing the Quality of Red Wine',
    color=top_features,
    color_continuous_scale='Reds'
)

plot_red.update_layout(
    yaxis={'categoryorder': 'total ascending'}
)

# Show plot
plot_red.show()

# Remove/Drop non numerical columns in white_wine_df 
n_numeric_columns = white_wine_df.select_dtypes(include=['object']).columns
white_wine_df = white_wine_df.drop(columns=n_numeric_columns)

#Correlation between white wine quality
correlation = white_wine_df.corr()['quality'].sort_values(ascending=False)
# Top 5 features
top_features = correlation.index[1:6] 

# Interactive bar plot for white wine
plot_white = px.bar(
    x=correlation[top_features],
    y=top_features,
    orientation='h',
    labels={'x': 'Correlation with Quality', 'y': 'Features'},
    title='Key Features Influencing the Quality of White Wine',
    color=top_features,
    color_continuous_scale='Blues'
)

plot_white.update_layout(
    yaxis={'categoryorder': 'total ascending'}
)

# Show plot
plot_white.show()



#Comparative analysis between white and red wines
red_wine_df['type'] = 'Red'
white_wine_df['type'] = 'White'
wine_df = pd.concat([red_wine_df, white_wine_df])

#Alcohol vs Quality Scatter Plot Interactivity
fig = px.scatter(wine_df, x='alcohol', y='quality', color='type', 
                 title='Alcohol Content vs. Quality',
                 labels={'alcohol': 'Alcohol Content', 'quality': 'Quality'},
                 template='plotly_dark')

fig.show()


import sqlite3

conn = sqlite3.connect('wine_quality.db')
df.to_sql('wine_quality', conn, if_exists='replace', index=False)


from sklearn.model_selection import train_test_split
from sklearn.metrics import mean_squared_error, r2_score

# Define features and target
X = red_wine_df.drop('quality', axis=1)
y = red_wine_df['quality']

# Split the data
X_train, X_test, y_train, y_test = train_test_split(X, y, test_size=0.2, random_state=42)

# Model Selection
model = LinearRegression()

# Model Training
model.fit(X_train, y_train)

# Model Evaluation
predictions = model.predict(X_test)
rmse = np.sqrt(mean_squared_error(y_test, predictions))
r2 = r2_score(y_test, predictions)
print(f'RMSE: {rmse}')
print(f'R-squared: {r2}')



