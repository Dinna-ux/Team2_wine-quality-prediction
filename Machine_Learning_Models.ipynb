{
 "cells": [
  {
   "cell_type": "code",
   "execution_count": 49,
   "id": "a18e2779-45c5-481b-a675-27c4a96c12cd",
   "metadata": {
    "tags": []
   },
   "outputs": [],
   "source": [
    "import numpy as np\n",
    "import pandas as pd\n",
    "import sqlite3\n",
    "from sklearn.model_selection import train_test_split\n",
    "from sklearn.preprocessing import StandardScaler\n",
    "from sklearn.metrics import classification_report, confusion_matrix, accuracy_score\n",
    "from sklearn.linear_model import LogisticRegression\n",
    "from sklearn.discriminant_analysis import LinearDiscriminantAnalysis\n",
    "from sklearn.svm import SVC\n",
    "from sklearn.tree import DecisionTreeClassifier\n",
    "from sklearn.ensemble import RandomForestClassifier, GradientBoostingClassifier, AdaBoostClassifier, BaggingClassifier, VotingClassifier, StackingClassifier\n",
    "from sklearn.neighbors import KNeighborsClassifier\n",
    "from sklearn.naive_bayes import GaussianNB\n",
    "from sklearn.discriminant_analysis import QuadraticDiscriminantAnalysis\n",
    "from sklearn.neural_network import MLPClassifier\n",
    "# import xgboost as xgb\n",
    "# import lightgbm as lgb\n",
    "# from catboost import CatBoostClassifier\n",
    "# from tpot import TPOTClassifier\n",
    "from sklearn.linear_model import RidgeClassifier\n",
    "from sklearn.ensemble import ExtraTreesClassifier\n",
    "from sklearn.linear_model import Lasso\n",
    "from sklearn.ensemble import IsolationForest\n",
    "from sklearn.decomposition import PCA\n",
    "from sklearn.cluster import KMeans\n",
    "from sklearn.pipeline import make_pipeline\n",
    "from sklearn.linear_model import BayesianRidge"
   ]
  },
  {
   "cell_type": "code",
   "execution_count": 2,
   "id": "a0d0b66c-9dd5-42ff-b369-151eca605dab",
   "metadata": {
    "tags": []
   },
   "outputs": [],
   "source": [
    "# Connect to SQLite database and retrieve data\n",
    "conn = sqlite3.connect('wine_quality.db')\n",
    "query = \"SELECT * FROM wine_quality\"\n",
    "wine_df = pd.read_sql_query(query, conn)\n",
    "conn.close()"
   ]
  },
  {
   "cell_type": "code",
   "execution_count": 3,
   "id": "ec55a6a3-ffb7-4a4f-ad1d-f60754858c1e",
   "metadata": {
    "tags": []
   },
   "outputs": [
    {
     "name": "stdout",
     "output_type": "stream",
     "text": [
      "Data has been successfully retrieved from wine_quality.db\n"
     ]
    }
   ],
   "source": [
    "print(\"Data has been successfully retrieved from wine_quality.db\")"
   ]
  },
  {
   "cell_type": "code",
   "execution_count": 4,
   "id": "dbb1963b-00be-4d34-90e9-b72d137ce3c3",
   "metadata": {
    "tags": []
   },
   "outputs": [
    {
     "data": {
      "text/html": [
       "<div>\n",
       "<style scoped>\n",
       "    .dataframe tbody tr th:only-of-type {\n",
       "        vertical-align: middle;\n",
       "    }\n",
       "\n",
       "    .dataframe tbody tr th {\n",
       "        vertical-align: top;\n",
       "    }\n",
       "\n",
       "    .dataframe thead th {\n",
       "        text-align: right;\n",
       "    }\n",
       "</style>\n",
       "<table border=\"1\" class=\"dataframe\">\n",
       "  <thead>\n",
       "    <tr style=\"text-align: right;\">\n",
       "      <th></th>\n",
       "      <th>fixed acidity</th>\n",
       "      <th>volatile acidity</th>\n",
       "      <th>citric acid</th>\n",
       "      <th>residual sugar</th>\n",
       "      <th>chlorides</th>\n",
       "      <th>free sulfur dioxide</th>\n",
       "      <th>total sulfur dioxide</th>\n",
       "      <th>density</th>\n",
       "      <th>pH</th>\n",
       "      <th>sulphates</th>\n",
       "      <th>alcohol</th>\n",
       "      <th>quality</th>\n",
       "      <th>type</th>\n",
       "    </tr>\n",
       "  </thead>\n",
       "  <tbody>\n",
       "    <tr>\n",
       "      <th>0</th>\n",
       "      <td>7.4</td>\n",
       "      <td>0.70</td>\n",
       "      <td>0.00</td>\n",
       "      <td>1.9</td>\n",
       "      <td>0.076</td>\n",
       "      <td>11.0</td>\n",
       "      <td>34.0</td>\n",
       "      <td>0.9978</td>\n",
       "      <td>3.51</td>\n",
       "      <td>0.56</td>\n",
       "      <td>9.4</td>\n",
       "      <td>0</td>\n",
       "      <td>Red</td>\n",
       "    </tr>\n",
       "    <tr>\n",
       "      <th>1</th>\n",
       "      <td>7.8</td>\n",
       "      <td>0.88</td>\n",
       "      <td>0.00</td>\n",
       "      <td>2.6</td>\n",
       "      <td>0.098</td>\n",
       "      <td>25.0</td>\n",
       "      <td>67.0</td>\n",
       "      <td>0.9968</td>\n",
       "      <td>3.20</td>\n",
       "      <td>0.68</td>\n",
       "      <td>9.8</td>\n",
       "      <td>0</td>\n",
       "      <td>Red</td>\n",
       "    </tr>\n",
       "    <tr>\n",
       "      <th>2</th>\n",
       "      <td>7.8</td>\n",
       "      <td>0.76</td>\n",
       "      <td>0.04</td>\n",
       "      <td>2.3</td>\n",
       "      <td>0.092</td>\n",
       "      <td>15.0</td>\n",
       "      <td>54.0</td>\n",
       "      <td>0.9970</td>\n",
       "      <td>3.26</td>\n",
       "      <td>0.65</td>\n",
       "      <td>9.8</td>\n",
       "      <td>0</td>\n",
       "      <td>Red</td>\n",
       "    </tr>\n",
       "    <tr>\n",
       "      <th>3</th>\n",
       "      <td>11.2</td>\n",
       "      <td>0.28</td>\n",
       "      <td>0.56</td>\n",
       "      <td>1.9</td>\n",
       "      <td>0.075</td>\n",
       "      <td>17.0</td>\n",
       "      <td>60.0</td>\n",
       "      <td>0.9980</td>\n",
       "      <td>3.16</td>\n",
       "      <td>0.58</td>\n",
       "      <td>9.8</td>\n",
       "      <td>0</td>\n",
       "      <td>Red</td>\n",
       "    </tr>\n",
       "    <tr>\n",
       "      <th>4</th>\n",
       "      <td>7.4</td>\n",
       "      <td>0.70</td>\n",
       "      <td>0.00</td>\n",
       "      <td>1.9</td>\n",
       "      <td>0.076</td>\n",
       "      <td>11.0</td>\n",
       "      <td>34.0</td>\n",
       "      <td>0.9978</td>\n",
       "      <td>3.51</td>\n",
       "      <td>0.56</td>\n",
       "      <td>9.4</td>\n",
       "      <td>0</td>\n",
       "      <td>Red</td>\n",
       "    </tr>\n",
       "  </tbody>\n",
       "</table>\n",
       "</div>"
      ],
      "text/plain": [
       "   fixed acidity  volatile acidity  citric acid  residual sugar  chlorides  \\\n",
       "0            7.4              0.70         0.00             1.9      0.076   \n",
       "1            7.8              0.88         0.00             2.6      0.098   \n",
       "2            7.8              0.76         0.04             2.3      0.092   \n",
       "3           11.2              0.28         0.56             1.9      0.075   \n",
       "4            7.4              0.70         0.00             1.9      0.076   \n",
       "\n",
       "   free sulfur dioxide  total sulfur dioxide  density    pH  sulphates  \\\n",
       "0                 11.0                  34.0   0.9978  3.51       0.56   \n",
       "1                 25.0                  67.0   0.9968  3.20       0.68   \n",
       "2                 15.0                  54.0   0.9970  3.26       0.65   \n",
       "3                 17.0                  60.0   0.9980  3.16       0.58   \n",
       "4                 11.0                  34.0   0.9978  3.51       0.56   \n",
       "\n",
       "   alcohol  quality type  \n",
       "0      9.4        0  Red  \n",
       "1      9.8        0  Red  \n",
       "2      9.8        0  Red  \n",
       "3      9.8        0  Red  \n",
       "4      9.4        0  Red  "
      ]
     },
     "execution_count": 4,
     "metadata": {},
     "output_type": "execute_result"
    }
   ],
   "source": [
    "# Set up a binary identifier for quality\n",
    "wine_df['quality'] = wine_df['quality'].apply(lambda x: 1 if x >= 7 else 0)\n",
    "wine_df.head()"
   ]
  },
  {
   "cell_type": "code",
   "execution_count": 5,
   "id": "96a1d950-0977-4f80-a09b-8954a3e5a2ea",
   "metadata": {
    "tags": []
   },
   "outputs": [
    {
     "name": "stdout",
     "output_type": "stream",
     "text": [
      "1277\n"
     ]
    }
   ],
   "source": [
    "# Count how many \"good\" wines\n",
    "good_wines = wine_df[wine_df['quality'] == 1]\n",
    "quality_counts = good_wines['quality'].count()\n",
    "print(quality_counts)"
   ]
  },
  {
   "cell_type": "code",
   "execution_count": 6,
   "id": "604115c6-d0c8-4a7b-a40f-29f414ce34ec",
   "metadata": {
    "tags": []
   },
   "outputs": [],
   "source": [
    "# Separate features and target variable\n",
    "X = wine_df.drop(['quality', 'type'], axis=1)\n",
    "y = wine_df['quality']"
   ]
  },
  {
   "cell_type": "code",
   "execution_count": 7,
   "id": "a3fafa23-bc39-46f3-864e-a0ba0f7b5028",
   "metadata": {
    "tags": []
   },
   "outputs": [],
   "source": [
    "# Split the data into training and test sets\n",
    "X_train, X_test, y_train, y_test = train_test_split(X, y, test_size=0.2, random_state=42)"
   ]
  },
  {
   "cell_type": "code",
   "execution_count": 8,
   "id": "7f424405-c22d-498f-9e89-c348ff31f828",
   "metadata": {
    "tags": []
   },
   "outputs": [],
   "source": [
    "# Scale the features\n",
    "scaler = StandardScaler()\n",
    "X_train = scaler.fit_transform(X_train)\n",
    "X_test = scaler.transform(X_test)"
   ]
  },
  {
   "cell_type": "code",
   "execution_count": 50,
   "id": "802af3e5-5110-40a8-b8e6-cb3571e97b08",
   "metadata": {
    "tags": []
   },
   "outputs": [],
   "source": [
    "# Function to evaluate and print model performance\n",
    "def evaluate_model(model, X_test, y_test):\n",
    "    y_pred = model.predict(X_test)\n",
    "    accuracy = accuracy_score(y_test, y_pred)\n",
    "    return classification_report(y_test, y_pred, output_dict=True), confusion_matrix(y_test, y_pred), accuracy"
   ]
  },
  {
   "cell_type": "code",
   "execution_count": 51,
   "id": "8a04ce89-d970-454a-88f4-91b766933f10",
   "metadata": {
    "tags": []
   },
   "outputs": [],
   "source": [
    "models = [\n",
    "    ('Logistic Regression', LogisticRegression(random_state=42)),\n",
    "    ('Linear Discriminant Analysis', LinearDiscriminantAnalysis()),\n",
    "    ('Support Vector Machine', SVC(random_state=42)),\n",
    "    ('Decision Tree Classifier', DecisionTreeClassifier(random_state=42)),\n",
    "    ('Random Forest Classifier', RandomForestClassifier(random_state=42)),\n",
    "    ('Gradient Boosting Classifier', GradientBoostingClassifier(random_state=42)),\n",
    "    # ('XGBoost', xgb.XGBClassifier(random_state=42)),\n",
    "    # ('LightGBM', lgb.LGBMClassifier(random_state=42)),\n",
    "    # ('CatBoost', CatBoostClassifier(verbose=0, random_state=42)),\n",
    "    ('AdaBoost', AdaBoostClassifier(random_state=42)),\n",
    "    ('Bagging Classifier', BaggingClassifier(random_state=42)),\n",
    "    ('K-Nearest Neighbors', KNeighborsClassifier()),\n",
    "    ('Gaussian Naive Bayes', GaussianNB()),\n",
    "    ('Quadratic Discriminant Analysis', QuadraticDiscriminantAnalysis()),\n",
    "    ('Multilayer Perceptron', MLPClassifier(random_state=42)),\n",
    "    ('Ridge Classifier', RidgeClassifier(random_state=42)),\n",
    "    ('ExtraTrees Classifier', ExtraTreesClassifier(random_state=42)),\n",
    "    ('Isolation Forest', IsolationForest(random_state=42))\n",
    "    # ('PCA', make_pipeline(StandardScaler(), PCA(n_components=2))),\n",
    "    # ('K-Means Clustering', make_pipeline(StandardScaler(), KMeans(n_clusters=2))),\n",
    "    # ('Bayesian Logistic Regression', BayesianRidge()),\n",
    "    # ('Lasso', Lasso(random_state=42))\n",
    "    # ('TPOT Classifier', TPOTClassifier(generations=5, population_size=50, verbosity=2, random_state=42))\n",
    "]"
   ]
  },
  {
   "cell_type": "code",
   "execution_count": 52,
   "id": "a2dd749b-da58-4ba4-8317-4dcc9f4e84b9",
   "metadata": {
    "tags": []
   },
   "outputs": [],
   "source": [
    "# DataFrame to store results\n",
    "results_df = pd.DataFrame(columns=[\n",
    "    'Model', 'Precision', 'Recall', 'F1-Score', 'Support', 'Accuracy',\n",
    "    'Predicted Positive Actual Positive', 'Predicted Positive Actual Negative',\n",
    "    'Predicted Negative Actual Positive', 'Predicted Negative Actual Negative'\n",
    "])"
   ]
  },
  {
   "cell_type": "code",
   "execution_count": 53,
   "id": "3a5f85f1-9a41-4f48-bcf8-3e0e7f8ddb7c",
   "metadata": {
    "tags": []
   },
   "outputs": [
    {
     "name": "stdout",
     "output_type": "stream",
     "text": [
      "Evaluating Logistic Regression...\n",
      "Evaluating Linear Discriminant Analysis...\n",
      "Evaluating Support Vector Machine...\n"
     ]
    },
    {
     "name": "stderr",
     "output_type": "stream",
     "text": [
      "C:\\Users\\morga\\AppData\\Local\\Temp\\ipykernel_21476\\3830747791.py:17: FutureWarning: The frame.append method is deprecated and will be removed from pandas in a future version. Use pandas.concat instead.\n",
      "  results_df = results_df.append({\n",
      "C:\\Users\\morga\\AppData\\Local\\Temp\\ipykernel_21476\\3830747791.py:17: FutureWarning: The frame.append method is deprecated and will be removed from pandas in a future version. Use pandas.concat instead.\n",
      "  results_df = results_df.append({\n",
      "C:\\Users\\morga\\AppData\\Local\\Temp\\ipykernel_21476\\3830747791.py:17: FutureWarning: The frame.append method is deprecated and will be removed from pandas in a future version. Use pandas.concat instead.\n",
      "  results_df = results_df.append({\n",
      "C:\\Users\\morga\\AppData\\Local\\Temp\\ipykernel_21476\\3830747791.py:17: FutureWarning: The frame.append method is deprecated and will be removed from pandas in a future version. Use pandas.concat instead.\n",
      "  results_df = results_df.append({\n"
     ]
    },
    {
     "name": "stdout",
     "output_type": "stream",
     "text": [
      "Evaluating Decision Tree Classifier...\n",
      "Evaluating Random Forest Classifier...\n"
     ]
    },
    {
     "name": "stderr",
     "output_type": "stream",
     "text": [
      "C:\\Users\\morga\\AppData\\Local\\Temp\\ipykernel_21476\\3830747791.py:17: FutureWarning: The frame.append method is deprecated and will be removed from pandas in a future version. Use pandas.concat instead.\n",
      "  results_df = results_df.append({\n"
     ]
    },
    {
     "name": "stdout",
     "output_type": "stream",
     "text": [
      "Evaluating Gradient Boosting Classifier...\n"
     ]
    },
    {
     "name": "stderr",
     "output_type": "stream",
     "text": [
      "C:\\Users\\morga\\AppData\\Local\\Temp\\ipykernel_21476\\3830747791.py:17: FutureWarning: The frame.append method is deprecated and will be removed from pandas in a future version. Use pandas.concat instead.\n",
      "  results_df = results_df.append({\n"
     ]
    },
    {
     "name": "stdout",
     "output_type": "stream",
     "text": [
      "Evaluating AdaBoost...\n"
     ]
    },
    {
     "name": "stderr",
     "output_type": "stream",
     "text": [
      "C:\\Users\\morga\\AppData\\Local\\Temp\\ipykernel_21476\\3830747791.py:17: FutureWarning: The frame.append method is deprecated and will be removed from pandas in a future version. Use pandas.concat instead.\n",
      "  results_df = results_df.append({\n"
     ]
    },
    {
     "name": "stdout",
     "output_type": "stream",
     "text": [
      "Evaluating Bagging Classifier...\n"
     ]
    },
    {
     "name": "stderr",
     "output_type": "stream",
     "text": [
      "C:\\Users\\morga\\AppData\\Local\\Temp\\ipykernel_21476\\3830747791.py:17: FutureWarning: The frame.append method is deprecated and will be removed from pandas in a future version. Use pandas.concat instead.\n",
      "  results_df = results_df.append({\n"
     ]
    },
    {
     "name": "stdout",
     "output_type": "stream",
     "text": [
      "Evaluating K-Nearest Neighbors...\n"
     ]
    },
    {
     "name": "stderr",
     "output_type": "stream",
     "text": [
      "C:\\Users\\morga\\AppData\\Local\\Temp\\ipykernel_21476\\3830747791.py:17: FutureWarning: The frame.append method is deprecated and will be removed from pandas in a future version. Use pandas.concat instead.\n",
      "  results_df = results_df.append({\n",
      "C:\\Users\\morga\\AppData\\Local\\Temp\\ipykernel_21476\\3830747791.py:17: FutureWarning: The frame.append method is deprecated and will be removed from pandas in a future version. Use pandas.concat instead.\n",
      "  results_df = results_df.append({\n",
      "C:\\Users\\morga\\AppData\\Local\\Temp\\ipykernel_21476\\3830747791.py:17: FutureWarning: The frame.append method is deprecated and will be removed from pandas in a future version. Use pandas.concat instead.\n",
      "  results_df = results_df.append({\n"
     ]
    },
    {
     "name": "stdout",
     "output_type": "stream",
     "text": [
      "Evaluating Gaussian Naive Bayes...\n",
      "Evaluating Quadratic Discriminant Analysis...\n",
      "Evaluating Multilayer Perceptron...\n"
     ]
    },
    {
     "name": "stderr",
     "output_type": "stream",
     "text": [
      "C:\\Users\\morga\\anaconda3\\envs\\dev\\lib\\site-packages\\sklearn\\neural_network\\_multilayer_perceptron.py:691: ConvergenceWarning: Stochastic Optimizer: Maximum iterations (200) reached and the optimization hasn't converged yet.\n",
      "  warnings.warn(\n",
      "C:\\Users\\morga\\AppData\\Local\\Temp\\ipykernel_21476\\3830747791.py:17: FutureWarning: The frame.append method is deprecated and will be removed from pandas in a future version. Use pandas.concat instead.\n",
      "  results_df = results_df.append({\n",
      "C:\\Users\\morga\\AppData\\Local\\Temp\\ipykernel_21476\\3830747791.py:17: FutureWarning: The frame.append method is deprecated and will be removed from pandas in a future version. Use pandas.concat instead.\n",
      "  results_df = results_df.append({\n"
     ]
    },
    {
     "name": "stdout",
     "output_type": "stream",
     "text": [
      "Evaluating Ridge Classifier...\n",
      "Evaluating ExtraTrees Classifier...\n"
     ]
    },
    {
     "name": "stderr",
     "output_type": "stream",
     "text": [
      "C:\\Users\\morga\\AppData\\Local\\Temp\\ipykernel_21476\\3830747791.py:17: FutureWarning: The frame.append method is deprecated and will be removed from pandas in a future version. Use pandas.concat instead.\n",
      "  results_df = results_df.append({\n"
     ]
    },
    {
     "name": "stdout",
     "output_type": "stream",
     "text": [
      "Evaluating Isolation Forest...\n"
     ]
    },
    {
     "name": "stderr",
     "output_type": "stream",
     "text": [
      "C:\\Users\\morga\\anaconda3\\envs\\dev\\lib\\site-packages\\sklearn\\metrics\\_classification.py:1469: UndefinedMetricWarning: Precision and F-score are ill-defined and being set to 0.0 in labels with no predicted samples. Use `zero_division` parameter to control this behavior.\n",
      "  _warn_prf(average, modifier, msg_start, len(result))\n",
      "C:\\Users\\morga\\anaconda3\\envs\\dev\\lib\\site-packages\\sklearn\\metrics\\_classification.py:1469: UndefinedMetricWarning: Recall and F-score are ill-defined and being set to 0.0 in labels with no true samples. Use `zero_division` parameter to control this behavior.\n",
      "  _warn_prf(average, modifier, msg_start, len(result))\n",
      "C:\\Users\\morga\\anaconda3\\envs\\dev\\lib\\site-packages\\sklearn\\metrics\\_classification.py:1469: UndefinedMetricWarning: Precision and F-score are ill-defined and being set to 0.0 in labels with no predicted samples. Use `zero_division` parameter to control this behavior.\n",
      "  _warn_prf(average, modifier, msg_start, len(result))\n",
      "C:\\Users\\morga\\anaconda3\\envs\\dev\\lib\\site-packages\\sklearn\\metrics\\_classification.py:1469: UndefinedMetricWarning: Recall and F-score are ill-defined and being set to 0.0 in labels with no true samples. Use `zero_division` parameter to control this behavior.\n",
      "  _warn_prf(average, modifier, msg_start, len(result))\n",
      "C:\\Users\\morga\\anaconda3\\envs\\dev\\lib\\site-packages\\sklearn\\metrics\\_classification.py:1469: UndefinedMetricWarning: Precision and F-score are ill-defined and being set to 0.0 in labels with no predicted samples. Use `zero_division` parameter to control this behavior.\n",
      "  _warn_prf(average, modifier, msg_start, len(result))\n",
      "C:\\Users\\morga\\anaconda3\\envs\\dev\\lib\\site-packages\\sklearn\\metrics\\_classification.py:1469: UndefinedMetricWarning: Recall and F-score are ill-defined and being set to 0.0 in labels with no true samples. Use `zero_division` parameter to control this behavior.\n",
      "  _warn_prf(average, modifier, msg_start, len(result))\n",
      "C:\\Users\\morga\\AppData\\Local\\Temp\\ipykernel_21476\\3830747791.py:17: FutureWarning: The frame.append method is deprecated and will be removed from pandas in a future version. Use pandas.concat instead.\n",
      "  results_df = results_df.append({\n"
     ]
    }
   ],
   "source": [
    "# Train and evaluate each model\n",
    "for name, model in models:\n",
    "    print(f\"Evaluating {name}...\")\n",
    "    try:\n",
    "        if 'PCA' in name or 'K-Means' in name:\n",
    "            model.fit(X_train)\n",
    "            y_pred = model.predict(X_test)\n",
    "            y_pred = (y_pred > 0.5).astype(int) if 'PCA' in name else y_pred\n",
    "            report = classification_report(y_test, y_pred, output_dict=True)\n",
    "            cm = confusion_matrix(y_test, y_pred)\n",
    "            accuracy = accuracy_score(y_test, y_pred)\n",
    "        else:\n",
    "            model.fit(X_train, y_train)\n",
    "            report, cm, accuracy = evaluate_model(model, X_test, y_test)\n",
    "\n",
    "        # Store the results in the DataFrame\n",
    "        results_df = results_df.append({\n",
    "            'Model': name,\n",
    "            'Precision': report['1']['precision'],\n",
    "            'Recall': report['1']['recall'],\n",
    "            'F1-Score': report['1']['f1-score'],\n",
    "            'Support': report['1']['support'],\n",
    "            'Accuracy': accuracy,\n",
    "            'Predicted Positive Actual Positive': cm[1, 1],\n",
    "            'Predicted Positive Actual Negative': cm[0, 1],\n",
    "            'Predicted Negative Actual Positive': cm[1, 0],\n",
    "            'Predicted Negative Actual Negative': cm[0, 0]\n",
    "        }, ignore_index=True)\n",
    "    except Exception as e:\n",
    "        print(f\"Failed to evaluate {name}: {e}\")\n"
   ]
  },
  {
   "cell_type": "code",
   "execution_count": 54,
   "id": "a1001e13-cbb9-4479-838d-c8d082cac92f",
   "metadata": {
    "tags": []
   },
   "outputs": [
    {
     "data": {
      "text/html": [
       "<div>\n",
       "<style scoped>\n",
       "    .dataframe tbody tr th:only-of-type {\n",
       "        vertical-align: middle;\n",
       "    }\n",
       "\n",
       "    .dataframe tbody tr th {\n",
       "        vertical-align: top;\n",
       "    }\n",
       "\n",
       "    .dataframe thead th {\n",
       "        text-align: right;\n",
       "    }\n",
       "</style>\n",
       "<table border=\"1\" class=\"dataframe\">\n",
       "  <thead>\n",
       "    <tr style=\"text-align: right;\">\n",
       "      <th></th>\n",
       "      <th>Model</th>\n",
       "      <th>Precision</th>\n",
       "      <th>Recall</th>\n",
       "      <th>F1-Score</th>\n",
       "      <th>Support</th>\n",
       "      <th>Accuracy</th>\n",
       "      <th>Predicted Positive Actual Positive</th>\n",
       "      <th>Predicted Positive Actual Negative</th>\n",
       "      <th>Predicted Negative Actual Positive</th>\n",
       "      <th>Predicted Negative Actual Negative</th>\n",
       "    </tr>\n",
       "  </thead>\n",
       "  <tbody>\n",
       "    <tr>\n",
       "      <th>0</th>\n",
       "      <td>Logistic Regression</td>\n",
       "      <td>0.607143</td>\n",
       "      <td>0.269841</td>\n",
       "      <td>0.373626</td>\n",
       "      <td>252.0</td>\n",
       "      <td>0.824615</td>\n",
       "      <td>68</td>\n",
       "      <td>44</td>\n",
       "      <td>184</td>\n",
       "      <td>1004</td>\n",
       "    </tr>\n",
       "    <tr>\n",
       "      <th>1</th>\n",
       "      <td>Linear Discriminant Analysis</td>\n",
       "      <td>0.603053</td>\n",
       "      <td>0.313492</td>\n",
       "      <td>0.412533</td>\n",
       "      <td>252.0</td>\n",
       "      <td>0.826923</td>\n",
       "      <td>79</td>\n",
       "      <td>52</td>\n",
       "      <td>173</td>\n",
       "      <td>996</td>\n",
       "    </tr>\n",
       "    <tr>\n",
       "      <th>2</th>\n",
       "      <td>Support Vector Machine</td>\n",
       "      <td>0.708333</td>\n",
       "      <td>0.269841</td>\n",
       "      <td>0.390805</td>\n",
       "      <td>252.0</td>\n",
       "      <td>0.836923</td>\n",
       "      <td>68</td>\n",
       "      <td>28</td>\n",
       "      <td>184</td>\n",
       "      <td>1020</td>\n",
       "    </tr>\n",
       "    <tr>\n",
       "      <th>3</th>\n",
       "      <td>Decision Tree Classifier</td>\n",
       "      <td>0.574468</td>\n",
       "      <td>0.642857</td>\n",
       "      <td>0.606742</td>\n",
       "      <td>252.0</td>\n",
       "      <td>0.838462</td>\n",
       "      <td>162</td>\n",
       "      <td>120</td>\n",
       "      <td>90</td>\n",
       "      <td>928</td>\n",
       "    </tr>\n",
       "    <tr>\n",
       "      <th>4</th>\n",
       "      <td>Random Forest Classifier</td>\n",
       "      <td>0.789189</td>\n",
       "      <td>0.579365</td>\n",
       "      <td>0.668192</td>\n",
       "      <td>252.0</td>\n",
       "      <td>0.888462</td>\n",
       "      <td>146</td>\n",
       "      <td>39</td>\n",
       "      <td>106</td>\n",
       "      <td>1009</td>\n",
       "    </tr>\n",
       "    <tr>\n",
       "      <th>5</th>\n",
       "      <td>Gradient Boosting Classifier</td>\n",
       "      <td>0.655172</td>\n",
       "      <td>0.376984</td>\n",
       "      <td>0.478589</td>\n",
       "      <td>252.0</td>\n",
       "      <td>0.840769</td>\n",
       "      <td>95</td>\n",
       "      <td>50</td>\n",
       "      <td>157</td>\n",
       "      <td>998</td>\n",
       "    </tr>\n",
       "    <tr>\n",
       "      <th>6</th>\n",
       "      <td>AdaBoost</td>\n",
       "      <td>0.669231</td>\n",
       "      <td>0.345238</td>\n",
       "      <td>0.455497</td>\n",
       "      <td>252.0</td>\n",
       "      <td>0.840000</td>\n",
       "      <td>87</td>\n",
       "      <td>43</td>\n",
       "      <td>165</td>\n",
       "      <td>1005</td>\n",
       "    </tr>\n",
       "    <tr>\n",
       "      <th>7</th>\n",
       "      <td>Bagging Classifier</td>\n",
       "      <td>0.736842</td>\n",
       "      <td>0.555556</td>\n",
       "      <td>0.633484</td>\n",
       "      <td>252.0</td>\n",
       "      <td>0.875385</td>\n",
       "      <td>140</td>\n",
       "      <td>50</td>\n",
       "      <td>112</td>\n",
       "      <td>998</td>\n",
       "    </tr>\n",
       "    <tr>\n",
       "      <th>8</th>\n",
       "      <td>K-Nearest Neighbors</td>\n",
       "      <td>0.587629</td>\n",
       "      <td>0.452381</td>\n",
       "      <td>0.511211</td>\n",
       "      <td>252.0</td>\n",
       "      <td>0.832308</td>\n",
       "      <td>114</td>\n",
       "      <td>80</td>\n",
       "      <td>138</td>\n",
       "      <td>968</td>\n",
       "    </tr>\n",
       "    <tr>\n",
       "      <th>9</th>\n",
       "      <td>Gaussian Naive Bayes</td>\n",
       "      <td>0.422977</td>\n",
       "      <td>0.642857</td>\n",
       "      <td>0.510236</td>\n",
       "      <td>252.0</td>\n",
       "      <td>0.760769</td>\n",
       "      <td>162</td>\n",
       "      <td>221</td>\n",
       "      <td>90</td>\n",
       "      <td>827</td>\n",
       "    </tr>\n",
       "    <tr>\n",
       "      <th>10</th>\n",
       "      <td>Quadratic Discriminant Analysis</td>\n",
       "      <td>0.439678</td>\n",
       "      <td>0.650794</td>\n",
       "      <td>0.524800</td>\n",
       "      <td>252.0</td>\n",
       "      <td>0.771538</td>\n",
       "      <td>164</td>\n",
       "      <td>209</td>\n",
       "      <td>88</td>\n",
       "      <td>839</td>\n",
       "    </tr>\n",
       "    <tr>\n",
       "      <th>11</th>\n",
       "      <td>Multilayer Perceptron</td>\n",
       "      <td>0.654676</td>\n",
       "      <td>0.361111</td>\n",
       "      <td>0.465473</td>\n",
       "      <td>252.0</td>\n",
       "      <td>0.839231</td>\n",
       "      <td>91</td>\n",
       "      <td>48</td>\n",
       "      <td>161</td>\n",
       "      <td>1000</td>\n",
       "    </tr>\n",
       "    <tr>\n",
       "      <th>12</th>\n",
       "      <td>Ridge Classifier</td>\n",
       "      <td>0.677966</td>\n",
       "      <td>0.158730</td>\n",
       "      <td>0.257235</td>\n",
       "      <td>252.0</td>\n",
       "      <td>0.822308</td>\n",
       "      <td>40</td>\n",
       "      <td>19</td>\n",
       "      <td>212</td>\n",
       "      <td>1029</td>\n",
       "    </tr>\n",
       "    <tr>\n",
       "      <th>13</th>\n",
       "      <td>ExtraTrees Classifier</td>\n",
       "      <td>0.829412</td>\n",
       "      <td>0.559524</td>\n",
       "      <td>0.668246</td>\n",
       "      <td>252.0</td>\n",
       "      <td>0.892308</td>\n",
       "      <td>141</td>\n",
       "      <td>29</td>\n",
       "      <td>111</td>\n",
       "      <td>1019</td>\n",
       "    </tr>\n",
       "    <tr>\n",
       "      <th>14</th>\n",
       "      <td>Isolation Forest</td>\n",
       "      <td>0.201371</td>\n",
       "      <td>0.932540</td>\n",
       "      <td>0.331219</td>\n",
       "      <td>252.0</td>\n",
       "      <td>0.180769</td>\n",
       "      <td>0</td>\n",
       "      <td>0</td>\n",
       "      <td>116</td>\n",
       "      <td>0</td>\n",
       "    </tr>\n",
       "  </tbody>\n",
       "</table>\n",
       "</div>"
      ],
      "text/plain": [
       "                              Model  Precision    Recall  F1-Score  Support  \\\n",
       "0               Logistic Regression   0.607143  0.269841  0.373626    252.0   \n",
       "1      Linear Discriminant Analysis   0.603053  0.313492  0.412533    252.0   \n",
       "2            Support Vector Machine   0.708333  0.269841  0.390805    252.0   \n",
       "3          Decision Tree Classifier   0.574468  0.642857  0.606742    252.0   \n",
       "4          Random Forest Classifier   0.789189  0.579365  0.668192    252.0   \n",
       "5      Gradient Boosting Classifier   0.655172  0.376984  0.478589    252.0   \n",
       "6                          AdaBoost   0.669231  0.345238  0.455497    252.0   \n",
       "7                Bagging Classifier   0.736842  0.555556  0.633484    252.0   \n",
       "8               K-Nearest Neighbors   0.587629  0.452381  0.511211    252.0   \n",
       "9              Gaussian Naive Bayes   0.422977  0.642857  0.510236    252.0   \n",
       "10  Quadratic Discriminant Analysis   0.439678  0.650794  0.524800    252.0   \n",
       "11            Multilayer Perceptron   0.654676  0.361111  0.465473    252.0   \n",
       "12                 Ridge Classifier   0.677966  0.158730  0.257235    252.0   \n",
       "13            ExtraTrees Classifier   0.829412  0.559524  0.668246    252.0   \n",
       "14                 Isolation Forest   0.201371  0.932540  0.331219    252.0   \n",
       "\n",
       "    Accuracy Predicted Positive Actual Positive  \\\n",
       "0   0.824615                                 68   \n",
       "1   0.826923                                 79   \n",
       "2   0.836923                                 68   \n",
       "3   0.838462                                162   \n",
       "4   0.888462                                146   \n",
       "5   0.840769                                 95   \n",
       "6   0.840000                                 87   \n",
       "7   0.875385                                140   \n",
       "8   0.832308                                114   \n",
       "9   0.760769                                162   \n",
       "10  0.771538                                164   \n",
       "11  0.839231                                 91   \n",
       "12  0.822308                                 40   \n",
       "13  0.892308                                141   \n",
       "14  0.180769                                  0   \n",
       "\n",
       "   Predicted Positive Actual Negative Predicted Negative Actual Positive  \\\n",
       "0                                  44                                184   \n",
       "1                                  52                                173   \n",
       "2                                  28                                184   \n",
       "3                                 120                                 90   \n",
       "4                                  39                                106   \n",
       "5                                  50                                157   \n",
       "6                                  43                                165   \n",
       "7                                  50                                112   \n",
       "8                                  80                                138   \n",
       "9                                 221                                 90   \n",
       "10                                209                                 88   \n",
       "11                                 48                                161   \n",
       "12                                 19                                212   \n",
       "13                                 29                                111   \n",
       "14                                  0                                116   \n",
       "\n",
       "   Predicted Negative Actual Negative  \n",
       "0                                1004  \n",
       "1                                 996  \n",
       "2                                1020  \n",
       "3                                 928  \n",
       "4                                1009  \n",
       "5                                 998  \n",
       "6                                1005  \n",
       "7                                 998  \n",
       "8                                 968  \n",
       "9                                 827  \n",
       "10                                839  \n",
       "11                               1000  \n",
       "12                               1029  \n",
       "13                               1019  \n",
       "14                                  0  "
      ]
     },
     "execution_count": 54,
     "metadata": {},
     "output_type": "execute_result"
    }
   ],
   "source": [
    "results_df"
   ]
  },
  {
   "cell_type": "code",
   "execution_count": 13,
   "id": "751f5767-9ff7-40a8-8383-143587692c22",
   "metadata": {
    "collapsed": true,
    "jupyter": {
     "outputs_hidden": true
    },
    "tags": []
   },
   "outputs": [
    {
     "name": "stdout",
     "output_type": "stream",
     "text": [
      "Epoch 1/50\n",
      "520/520 [==============================] - 2s 2ms/step - loss: 0.4053 - accuracy: 0.8126 - val_loss: 0.3667 - val_accuracy: 0.8292\n",
      "Epoch 2/50\n",
      "520/520 [==============================] - 1s 2ms/step - loss: 0.3665 - accuracy: 0.8309 - val_loss: 0.3610 - val_accuracy: 0.8200\n",
      "Epoch 3/50\n",
      "520/520 [==============================] - 1s 2ms/step - loss: 0.3565 - accuracy: 0.8332 - val_loss: 0.3479 - val_accuracy: 0.8400\n",
      "Epoch 4/50\n",
      "520/520 [==============================] - 1s 1ms/step - loss: 0.3474 - accuracy: 0.8368 - val_loss: 0.3463 - val_accuracy: 0.8315\n",
      "Epoch 5/50\n",
      "520/520 [==============================] - 1s 1ms/step - loss: 0.3417 - accuracy: 0.8422 - val_loss: 0.3453 - val_accuracy: 0.8338\n",
      "Epoch 6/50\n",
      "520/520 [==============================] - 1s 1ms/step - loss: 0.3347 - accuracy: 0.8439 - val_loss: 0.3494 - val_accuracy: 0.8300\n",
      "Epoch 7/50\n",
      "520/520 [==============================] - 1s 2ms/step - loss: 0.3306 - accuracy: 0.8445 - val_loss: 0.3618 - val_accuracy: 0.8300\n",
      "Epoch 8/50\n",
      "520/520 [==============================] - 1s 2ms/step - loss: 0.3255 - accuracy: 0.8515 - val_loss: 0.3409 - val_accuracy: 0.8469\n",
      "Epoch 9/50\n",
      "520/520 [==============================] - 1s 2ms/step - loss: 0.3201 - accuracy: 0.8495 - val_loss: 0.3430 - val_accuracy: 0.8385\n",
      "Epoch 10/50\n",
      "520/520 [==============================] - 1s 1ms/step - loss: 0.3147 - accuracy: 0.8563 - val_loss: 0.3404 - val_accuracy: 0.8408\n",
      "Epoch 11/50\n",
      "520/520 [==============================] - 1s 1ms/step - loss: 0.3126 - accuracy: 0.8563 - val_loss: 0.3410 - val_accuracy: 0.8438\n",
      "Epoch 12/50\n",
      "520/520 [==============================] - 1s 1ms/step - loss: 0.3057 - accuracy: 0.8607 - val_loss: 0.3373 - val_accuracy: 0.8408\n",
      "Epoch 13/50\n",
      "520/520 [==============================] - 1s 1ms/step - loss: 0.3011 - accuracy: 0.8640 - val_loss: 0.3530 - val_accuracy: 0.8354\n",
      "Epoch 14/50\n",
      "520/520 [==============================] - 1s 1ms/step - loss: 0.3005 - accuracy: 0.8659 - val_loss: 0.3400 - val_accuracy: 0.8408\n",
      "Epoch 15/50\n",
      "520/520 [==============================] - 1s 1ms/step - loss: 0.2950 - accuracy: 0.8647 - val_loss: 0.3404 - val_accuracy: 0.8346\n",
      "Epoch 16/50\n",
      "520/520 [==============================] - 1s 2ms/step - loss: 0.2936 - accuracy: 0.8643 - val_loss: 0.3383 - val_accuracy: 0.8431\n",
      "Epoch 17/50\n",
      "520/520 [==============================] - 1s 2ms/step - loss: 0.2870 - accuracy: 0.8670 - val_loss: 0.3445 - val_accuracy: 0.8385\n",
      "Epoch 18/50\n",
      "520/520 [==============================] - 1s 2ms/step - loss: 0.2839 - accuracy: 0.8728 - val_loss: 0.3418 - val_accuracy: 0.8408\n",
      "Epoch 19/50\n",
      "520/520 [==============================] - 1s 2ms/step - loss: 0.2827 - accuracy: 0.8732 - val_loss: 0.3388 - val_accuracy: 0.8438\n",
      "Epoch 20/50\n",
      "520/520 [==============================] - 1s 1ms/step - loss: 0.2771 - accuracy: 0.8744 - val_loss: 0.3298 - val_accuracy: 0.8446\n",
      "Epoch 21/50\n",
      "520/520 [==============================] - 1s 2ms/step - loss: 0.2696 - accuracy: 0.8769 - val_loss: 0.3430 - val_accuracy: 0.8323\n",
      "Epoch 22/50\n",
      "520/520 [==============================] - 1s 2ms/step - loss: 0.2681 - accuracy: 0.8801 - val_loss: 0.3320 - val_accuracy: 0.8485\n",
      "Epoch 23/50\n",
      "520/520 [==============================] - 1s 2ms/step - loss: 0.2627 - accuracy: 0.8840 - val_loss: 0.3330 - val_accuracy: 0.8462\n",
      "Epoch 24/50\n",
      "520/520 [==============================] - 1s 2ms/step - loss: 0.2601 - accuracy: 0.8871 - val_loss: 0.3452 - val_accuracy: 0.8454\n",
      "Epoch 25/50\n",
      "520/520 [==============================] - 1s 2ms/step - loss: 0.2558 - accuracy: 0.8820 - val_loss: 0.3363 - val_accuracy: 0.8492\n",
      "Epoch 26/50\n",
      "520/520 [==============================] - 1s 2ms/step - loss: 0.2519 - accuracy: 0.8897 - val_loss: 0.3524 - val_accuracy: 0.8254\n",
      "Epoch 27/50\n",
      "520/520 [==============================] - 1s 1ms/step - loss: 0.2480 - accuracy: 0.8913 - val_loss: 0.3347 - val_accuracy: 0.8500\n",
      "Epoch 28/50\n",
      "520/520 [==============================] - 1s 1ms/step - loss: 0.2436 - accuracy: 0.8951 - val_loss: 0.3544 - val_accuracy: 0.8438\n",
      "Epoch 29/50\n",
      "520/520 [==============================] - 1s 2ms/step - loss: 0.2405 - accuracy: 0.8949 - val_loss: 0.3560 - val_accuracy: 0.8446\n",
      "Epoch 30/50\n",
      "520/520 [==============================] - 1s 1ms/step - loss: 0.2410 - accuracy: 0.8909 - val_loss: 0.3376 - val_accuracy: 0.8492\n",
      "Epoch 31/50\n",
      "520/520 [==============================] - 1s 2ms/step - loss: 0.2319 - accuracy: 0.8984 - val_loss: 0.3615 - val_accuracy: 0.8523\n",
      "Epoch 32/50\n",
      "520/520 [==============================] - 1s 2ms/step - loss: 0.2313 - accuracy: 0.8996 - val_loss: 0.3464 - val_accuracy: 0.8492\n",
      "Epoch 33/50\n",
      "520/520 [==============================] - 1s 2ms/step - loss: 0.2274 - accuracy: 0.8980 - val_loss: 0.3451 - val_accuracy: 0.8562\n",
      "Epoch 34/50\n",
      "520/520 [==============================] - 1s 1ms/step - loss: 0.2238 - accuracy: 0.9048 - val_loss: 0.3377 - val_accuracy: 0.8415\n",
      "Epoch 35/50\n",
      "520/520 [==============================] - 1s 1ms/step - loss: 0.2198 - accuracy: 0.9071 - val_loss: 0.3456 - val_accuracy: 0.8508\n",
      "Epoch 36/50\n",
      "520/520 [==============================] - 1s 1ms/step - loss: 0.2158 - accuracy: 0.9073 - val_loss: 0.3606 - val_accuracy: 0.8492\n",
      "Epoch 37/50\n",
      "520/520 [==============================] - 1s 2ms/step - loss: 0.2101 - accuracy: 0.9136 - val_loss: 0.3385 - val_accuracy: 0.8608\n",
      "Epoch 38/50\n",
      "520/520 [==============================] - 1s 1ms/step - loss: 0.2107 - accuracy: 0.9111 - val_loss: 0.3482 - val_accuracy: 0.8531\n",
      "Epoch 39/50\n",
      "520/520 [==============================] - 1s 2ms/step - loss: 0.2071 - accuracy: 0.9088 - val_loss: 0.3512 - val_accuracy: 0.8554\n",
      "Epoch 40/50\n",
      "520/520 [==============================] - 1s 2ms/step - loss: 0.2008 - accuracy: 0.9163 - val_loss: 0.3415 - val_accuracy: 0.8546\n",
      "Epoch 41/50\n",
      "520/520 [==============================] - 1s 1ms/step - loss: 0.1987 - accuracy: 0.9151 - val_loss: 0.3508 - val_accuracy: 0.8538\n",
      "Epoch 42/50\n",
      "520/520 [==============================] - 1s 2ms/step - loss: 0.1936 - accuracy: 0.9180 - val_loss: 0.3607 - val_accuracy: 0.8431\n",
      "Epoch 43/50\n",
      "520/520 [==============================] - 1s 1ms/step - loss: 0.1943 - accuracy: 0.9200 - val_loss: 0.3623 - val_accuracy: 0.8531\n",
      "Epoch 44/50\n",
      "520/520 [==============================] - 1s 1ms/step - loss: 0.1898 - accuracy: 0.9215 - val_loss: 0.3674 - val_accuracy: 0.8462\n",
      "Epoch 45/50\n",
      "520/520 [==============================] - 1s 1ms/step - loss: 0.1853 - accuracy: 0.9221 - val_loss: 0.3514 - val_accuracy: 0.8508\n",
      "Epoch 46/50\n",
      "520/520 [==============================] - 1s 1ms/step - loss: 0.1779 - accuracy: 0.9265 - val_loss: 0.3599 - val_accuracy: 0.8585\n",
      "Epoch 47/50\n",
      "520/520 [==============================] - 1s 1ms/step - loss: 0.1800 - accuracy: 0.9255 - val_loss: 0.3622 - val_accuracy: 0.8638\n",
      "Epoch 48/50\n",
      "520/520 [==============================] - 1s 1ms/step - loss: 0.1747 - accuracy: 0.9251 - val_loss: 0.3617 - val_accuracy: 0.8531\n",
      "Epoch 49/50\n",
      "520/520 [==============================] - 1s 1ms/step - loss: 0.1709 - accuracy: 0.9263 - val_loss: 0.3569 - val_accuracy: 0.8515\n",
      "Epoch 50/50\n",
      "520/520 [==============================] - 1s 1ms/step - loss: 0.1672 - accuracy: 0.9292 - val_loss: 0.3644 - val_accuracy: 0.8654\n"
     ]
    },
    {
     "data": {
      "text/plain": [
       "<keras.callbacks.History at 0x1bb0a3b78b0>"
      ]
     },
     "execution_count": 13,
     "metadata": {},
     "output_type": "execute_result"
    }
   ],
   "source": [
    "nn_model.compile(loss='binary_crossentropy', optimizer='adam', metrics=['accuracy'])\n",
    "nn_model.fit(X_train, y_train, epochs=50, batch_size=10, validation_data=(X_test, y_test))"
   ]
  },
  {
   "cell_type": "code",
   "execution_count": 14,
   "id": "cdc90b8c-bc9d-4964-bb17-140196b79a8e",
   "metadata": {
    "tags": []
   },
   "outputs": [
    {
     "name": "stdout",
     "output_type": "stream",
     "text": [
      "41/41 [==============================] - 0s 1ms/step\n",
      "[[996  52]\n",
      " [123 129]]\n",
      "              precision    recall  f1-score   support\n",
      "\n",
      "           0       0.89      0.95      0.92      1048\n",
      "           1       0.71      0.51      0.60       252\n",
      "\n",
      "    accuracy                           0.87      1300\n",
      "   macro avg       0.80      0.73      0.76      1300\n",
      "weighted avg       0.86      0.87      0.86      1300\n",
      "\n",
      "41/41 [==============================] - 0s 970us/step\n",
      "[[996  52]\n",
      " [123 129]]\n",
      "              precision    recall  f1-score   support\n",
      "\n",
      "           0       0.89      0.95      0.92      1048\n",
      "           1       0.71      0.51      0.60       252\n",
      "\n",
      "    accuracy                           0.87      1300\n",
      "   macro avg       0.80      0.73      0.76      1300\n",
      "weighted avg       0.86      0.87      0.86      1300\n",
      "\n"
     ]
    }
   ],
   "source": [
    "# Evaluate Neural Network Model\n",
    "y_pred_nn = (nn_model.predict(X_test) > 0.5).astype(\"int32\")\n",
    "print(confusion_matrix(y_test, y_pred_nn))\n",
    "print(classification_report(y_test, y_pred_nn))# Evaluate Neural Network Model\n",
    "y_pred_nn = (nn_model.predict(X_test) > 0.5).astype(\"int32\")\n",
    "print(confusion_matrix(y_test, y_pred_nn))\n",
    "print(classification_report(y_test, y_pred_nn))"
   ]
  },
  {
   "cell_type": "code",
   "execution_count": null,
   "id": "a5740462-b7ba-47bb-be60-e34a18d6214c",
   "metadata": {},
   "outputs": [],
   "source": []
  }
 ],
 "metadata": {
  "kernelspec": {
   "display_name": "Python 3 (ipykernel)",
   "language": "python",
   "name": "python3"
  },
  "language_info": {
   "codemirror_mode": {
    "name": "ipython",
    "version": 3
   },
   "file_extension": ".py",
   "mimetype": "text/x-python",
   "name": "python",
   "nbconvert_exporter": "python",
   "pygments_lexer": "ipython3",
   "version": "3.10.12"
  }
 },
 "nbformat": 4,
 "nbformat_minor": 5
}
